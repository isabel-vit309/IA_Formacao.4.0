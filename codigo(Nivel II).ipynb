{
 "cells": [
  {
   "cell_type": "markdown",
   "metadata": {},
   "source": [
    "Aqui importamos todas as ferramentas que serão utilizadas: visualização, manipulação de dados, algoritmos de Machine Learning, avaliação de desempenho, interface gráfica e salvamento de modelos"
   ]
  },
  {
   "cell_type": "code",
   "execution_count": 1,
   "metadata": {},
   "outputs": [
    {
     "name": "stderr",
     "output_type": "stream",
     "text": [
      "c:\\Users\\Pichau\\Desktop\\Projetos\\IA_Formacao.4.0\\.venv\\Lib\\site-packages\\tqdm\\auto.py:21: TqdmWarning: IProgress not found. Please update jupyter and ipywidgets. See https://ipywidgets.readthedocs.io/en/stable/user_install.html\n",
      "  from .autonotebook import tqdm as notebook_tqdm\n"
     ]
    }
   ],
   "source": [
    "import pandas as pd\n",
    "import numpy as np\n",
    "import seaborn as sns\n",
    "import matplotlib.pyplot as plt\n",
    "import pickle\n",
    "import gradio as gr\n",
    "from sklearn.model_selection import train_test_split\n",
    "from sklearn.preprocessing import StandardScaler\n",
    "from sklearn.linear_model import LogisticRegression\n",
    "from sklearn.tree import DecisionTreeClassifier\n",
    "from sklearn.metrics import accuracy_score\n",
    "from ucimlrepo import fetch_ucirepo"
   ]
  },
  {
   "cell_type": "markdown",
   "metadata": {},
   "source": [
    "Carregando o Dataset que vai ser usado"
   ]
  },
  {
   "cell_type": "code",
   "execution_count": 2,
   "metadata": {},
   "outputs": [],
   "source": [
    "dataset = fetch_ucirepo(id=17)  \n",
    "X_full = dataset.data.features\n",
    "y = dataset.data.targets.iloc[:, 0]  "
   ]
  },
  {
   "cell_type": "markdown",
   "metadata": {},
   "source": [
    "Aqui selecionamos apenas 10 variáveis do dataset para seguir a regra do projeto"
   ]
  },
  {
   "cell_type": "code",
   "execution_count": 3,
   "metadata": {},
   "outputs": [],
   "source": [
    "features_escolhidas = [\n",
    "    \"radius1\", \"texture1\", \"perimeter1\", \"area1\",\n",
    "    \"smoothness1\", \"radius2\", \"texture2\", \"perimeter2\",\n",
    "    \"area2\", \"smoothness2\"\n",
    "]\n",
    "X = X_full[features_escolhidas]"
   ]
  },
  {
   "cell_type": "markdown",
   "metadata": {},
   "source": [
    "Verificamos se o dataset está balanceado entre os casos benignos e malignos"
   ]
  },
  {
   "cell_type": "code",
   "execution_count": 4,
   "metadata": {},
   "outputs": [],
   "source": [
    "scaler = StandardScaler()\n",
    "X_scaled = scaler.fit_transform(X)"
   ]
  },
  {
   "cell_type": "markdown",
   "metadata": {},
   "source": [
    "Essa parte executa o processo de treino/teste 30 vezes. Isso permite verificar a média de acertos e a estabilidade (desvio padrão) dos modelos"
   ]
  },
  {
   "cell_type": "code",
   "execution_count": 5,
   "metadata": {},
   "outputs": [],
   "source": [
    "accs_lr = []\n",
    "accs_dt = []\n",
    "\n",
    "for _ in range(30):\n",
    "    X_train, X_test, y_train, y_test = train_test_split(\n",
    "        X_scaled, y, test_size=0.3, stratify=y, random_state=None\n",
    "    )\n",
    "\n",
    "    modelo_lr = LogisticRegression(max_iter=1000)\n",
    "    modelo_dt = DecisionTreeClassifier()\n",
    "\n",
    "    modelo_lr.fit(X_train, y_train)\n",
    "    modelo_dt.fit(X_train, y_train)\n",
    "\n",
    "    pred_lr = modelo_lr.predict(X_test)\n",
    "    pred_dt = modelo_dt.predict(X_test)\n",
    "\n",
    "    accs_lr.append(accuracy_score(y_test, pred_lr))\n",
    "    accs_dt.append(accuracy_score(y_test, pred_dt))"
   ]
  },
  {
   "cell_type": "markdown",
   "metadata": {},
   "source": [
    "Comparamos qual modelo teve maior acurácia média (melhor desempenho) e qual teve menor desvio padrão (mais estável)"
   ]
  },
  {
   "cell_type": "code",
   "execution_count": 6,
   "metadata": {},
   "outputs": [
    {
     "name": "stdout",
     "output_type": "stream",
     "text": [
      "\n",
      " Resultados após 30 execuções:\n",
      "Regressão Logística - Média: 0.9361 | Desvio Padrão: 0.0132\n",
      "Árvore de Decisão    - Média: 0.8871 | Desvio Padrão: 0.0232\n"
     ]
    }
   ],
   "source": [
    "media_lr = np.mean(accs_lr)\n",
    "std_lr = np.std(accs_lr)\n",
    "media_dt = np.mean(accs_dt)\n",
    "std_dt = np.std(accs_dt)\n",
    "\n",
    "print(\"\\n Resultados após 30 execuções:\")\n",
    "print(f\"Regressão Logística - Média: {media_lr:.4f} | Desvio Padrão: {std_lr:.4f}\")\n",
    "print(f\"Árvore de Decisão    - Média: {media_dt:.4f} | Desvio Padrão: {std_dt:.4f}\")"
   ]
  },
  {
   "cell_type": "markdown",
   "metadata": {},
   "source": [
    "Escolhemos o modelo com maior média de acurácia"
   ]
  },
  {
   "cell_type": "code",
   "execution_count": 7,
   "metadata": {},
   "outputs": [
    {
     "name": "stdout",
     "output_type": "stream",
     "text": [
      "\n",
      " Modelo selecionado para salvar: Regressão Logística\n"
     ]
    }
   ],
   "source": [
    "if media_lr > media_dt:\n",
    "    melhor_modelo = modelo_lr\n",
    "    modelo_nome = \"Regressão Logística\"\n",
    "else:\n",
    "    melhor_modelo = modelo_dt\n",
    "    modelo_nome = \"Árvore de Decisão\"\n",
    "\n",
    "print(f\"\\n Modelo selecionado para salvar: {modelo_nome}\")"
   ]
  },
  {
   "cell_type": "markdown",
   "metadata": {},
   "source": [
    "Aqui salvamos o modelo com melhor desempenho na biblioteca pickle"
   ]
  },
  {
   "cell_type": "code",
   "execution_count": 8,
   "metadata": {},
   "outputs": [],
   "source": [
    "with open(\"modelo_salvo.pkl\", \"wb\") as f:\n",
    "    pickle.dump(melhor_modelo, f)\n",
    "\n",
    "with open(\"scaler_salvo.pkl\", \"wb\") as f:\n",
    "    pickle.dump(scaler, f)"
   ]
  },
  {
   "cell_type": "markdown",
   "metadata": {},
   "source": [
    "Essa interface simples com Gradio permite que o usuário preencha os valores manualmente e receba uma predição amigável sobre o tumor"
   ]
  },
  {
   "cell_type": "code",
   "execution_count": 9,
   "metadata": {},
   "outputs": [
    {
     "name": "stdout",
     "output_type": "stream",
     "text": [
      "* Running on local URL:  http://127.0.0.1:7860\n",
      "* To create a public link, set `share=True` in `launch()`.\n"
     ]
    },
    {
     "data": {
      "text/html": [
       "<div><iframe src=\"http://127.0.0.1:7860/\" width=\"100%\" height=\"500\" allow=\"autoplay; camera; microphone; clipboard-read; clipboard-write;\" frameborder=\"0\" allowfullscreen></iframe></div>"
      ],
      "text/plain": [
       "<IPython.core.display.HTML object>"
      ]
     },
     "metadata": {},
     "output_type": "display_data"
    },
    {
     "data": {
      "text/plain": []
     },
     "execution_count": 9,
     "metadata": {},
     "output_type": "execute_result"
    }
   ],
   "source": [
    "def prever_tumor(*inputs):\n",
    "    with open(\"modelo_salvo.pkl\", \"rb\") as f:\n",
    "        modelo = pickle.load(f)\n",
    "    with open(\"scaler_salvo.pkl\", \"rb\") as f:\n",
    "        scaler = pickle.load(f)\n",
    "    dados = np.array(inputs).reshape(1, -1)\n",
    "    dados_escalados = scaler.transform(dados)\n",
    "    pred = modelo.predict(dados_escalados)[0]\n",
    "    return \" Benigno\" if pred == 0 else \" Maligno\"\n",
    "\n",
    "inputs = [gr.Number(label=nome) for nome in features_escolhidas]\n",
    "gr.Interface(fn=prever_tumor, inputs=inputs, outputs=\"text\", title=\"Classificador de Tumor Mamário\").launch()"
   ]
  }
 ],
 "metadata": {
  "kernelspec": {
   "display_name": ".venv",
   "language": "python",
   "name": "python3"
  },
  "language_info": {
   "codemirror_mode": {
    "name": "ipython",
    "version": 3
   },
   "file_extension": ".py",
   "mimetype": "text/x-python",
   "name": "python",
   "nbconvert_exporter": "python",
   "pygments_lexer": "ipython3",
   "version": "3.12.10"
  }
 },
 "nbformat": 4,
 "nbformat_minor": 2
}
